{
 "cells": [
  {
   "cell_type": "code",
   "execution_count": 1,
   "id": "fcea66e5",
   "metadata": {},
   "outputs": [],
   "source": [
    "from dotenv import load_dotenv\n",
    "from langchain_groq import ChatGroq"
   ]
  },
  {
   "cell_type": "code",
   "execution_count": 2,
   "id": "4addbf14",
   "metadata": {},
   "outputs": [],
   "source": [
    "llm = ChatGroq(model=\"deepseek-r1-distill-llama-70b\")"
   ]
  },
  {
   "cell_type": "code",
   "execution_count": 3,
   "id": "6aa59cb9",
   "metadata": {},
   "outputs": [
    {
     "data": {
      "text/plain": [
       "AIMessage(content='<think>\\n\\n</think>\\n\\nHello! How can I assist you today? 😊', additional_kwargs={}, response_metadata={'token_usage': {'completion_tokens': 16, 'prompt_tokens': 4, 'total_tokens': 20, 'completion_time': 0.078998209, 'prompt_time': 0.000101369, 'queue_time': 0.052206733000000005, 'total_time': 0.079099578}, 'model_name': 'deepseek-r1-distill-llama-70b', 'system_fingerprint': 'fp_1bbe7845ec', 'finish_reason': 'stop', 'logprobs': None}, id='run--80604f47-f6ed-4621-9dad-257693d39382-0', usage_metadata={'input_tokens': 4, 'output_tokens': 16, 'total_tokens': 20})"
      ]
     },
     "execution_count": 3,
     "metadata": {},
     "output_type": "execute_result"
    }
   ],
   "source": [
    "llm.invoke(\"Hi\")"
   ]
  },
  {
   "cell_type": "code",
   "execution_count": 4,
   "id": "6db06df7",
   "metadata": {},
   "outputs": [],
   "source": [
    "from langchain.tools import tool"
   ]
  },
  {
   "cell_type": "markdown",
   "id": "5712ffe5",
   "metadata": {},
   "source": [
    "METHOD 1 for tools creation"
   ]
  },
  {
   "cell_type": "code",
   "execution_count": null,
   "id": "839214fa",
   "metadata": {},
   "outputs": [],
   "source": [
    "#Tool Decorator\n",
    "\n",
    "\n",
    "@tool\n",
    "def multiply(a:int, b:int) -> int:\n",
    "    \"\"\"\n",
    "    Multiply 2 integers and provide the output\n",
    "    \"\"\"\n",
    "    return a * b"
   ]
  },
  {
   "cell_type": "code",
   "execution_count": 6,
   "id": "b9bf9cea",
   "metadata": {},
   "outputs": [
    {
     "data": {
      "text/plain": [
       "StructuredTool(name='multiply', description='Multiply 2 integers and provide the output', args_schema=<class 'langchain_core.utils.pydantic.multiply'>, func=<function multiply at 0x000002598200D3F0>)"
      ]
     },
     "execution_count": 6,
     "metadata": {},
     "output_type": "execute_result"
    }
   ],
   "source": [
    "multiply"
   ]
  },
  {
   "cell_type": "markdown",
   "id": "c9795d64",
   "metadata": {},
   "source": [
    "METHOD 2 FOR TOOL CREATION"
   ]
  },
  {
   "cell_type": "code",
   "execution_count": 9,
   "id": "081729f4",
   "metadata": {},
   "outputs": [],
   "source": [
    "from langchain_core.tools import StructuredTool\n",
    "from pydantic import BaseModel"
   ]
  },
  {
   "cell_type": "code",
   "execution_count": 10,
   "id": "5a945712",
   "metadata": {},
   "outputs": [],
   "source": [
    "class WeatherInput(BaseModel):\n",
    "    city: str"
   ]
  },
  {
   "cell_type": "code",
   "execution_count": 11,
   "id": "613ecaf7",
   "metadata": {},
   "outputs": [],
   "source": [
    "def get_weather(city:str) -> str:\n",
    "    \"\"\"\n",
    "    get the weather for a given city\n",
    "    \"\"\"\n",
    "    return f\"The weather of the {city} is sunny\""
   ]
  },
  {
   "cell_type": "code",
   "execution_count": 12,
   "id": "ed207a7a",
   "metadata": {},
   "outputs": [],
   "source": [
    "weather_tool = StructuredTool.from_function(\n",
    "    func=get_weather,\n",
    "    name=\"Get weather\",\n",
    "    description=\"Fetches the real time weather data for a city\",\n",
    "    args_schema=WeatherInput,\n",
    ")"
   ]
  },
  {
   "cell_type": "code",
   "execution_count": 13,
   "id": "d4c90a38",
   "metadata": {},
   "outputs": [
    {
     "data": {
      "text/plain": [
       "StructuredTool(name='Get weather', description='Fetches the real time weather data for a city', args_schema=<class '__main__.WeatherInput'>, func=<function get_weather at 0x000002599B4439A0>)"
      ]
     },
     "execution_count": 13,
     "metadata": {},
     "output_type": "execute_result"
    }
   ],
   "source": [
    "weather_tool"
   ]
  },
  {
   "cell_type": "markdown",
   "id": "f1cdedda",
   "metadata": {},
   "source": [
    "METHOD 3 for tool creation"
   ]
  },
  {
   "cell_type": "code",
   "execution_count": 15,
   "id": "580d7c88",
   "metadata": {},
   "outputs": [],
   "source": [
    "from pydantic import Field\n",
    "from typing import Type, ClassVar"
   ]
  },
  {
   "cell_type": "code",
   "execution_count": 16,
   "id": "375fd9ae",
   "metadata": {},
   "outputs": [],
   "source": [
    "class WeatherInput(BaseModel):\n",
    "    city:str = Field(..., description=\"City Name\")\n",
    "    units:str = Field(..., description=\"metric or imperial\")\n",
    "\n",
    "class GetWeatherTool(StructuredTool):\n",
    "    name: ClassVar[str] = \"get_weather\"\n",
    "    description: ClassVar[str] = (\n",
    "        \"fetches weather data for a city\"\n",
    "    )\n",
    "    args_schema: ClassVar[Type[BaseModel]] = WeatherInput\n",
    "\n",
    "    def _run(self, city: str, units: str = \"metric\") -> str:\n",
    "        return get_weather(city, units)"
   ]
  },
  {
   "cell_type": "code",
   "execution_count": null,
   "id": "616e7252",
   "metadata": {},
   "outputs": [],
   "source": []
  },
  {
   "cell_type": "code",
   "execution_count": null,
   "id": "c4b42591",
   "metadata": {},
   "outputs": [],
   "source": []
  },
  {
   "cell_type": "code",
   "execution_count": null,
   "metadata": {},
   "outputs": [],
   "source": []
  },
  {
   "cell_type": "code",
   "execution_count": null,
   "id": "3983cbf1",
   "metadata": {},
   "outputs": [],
   "source": []
  },
  {
   "cell_type": "code",
   "execution_count": null,
   "id": "fb785255",
   "metadata": {},
   "outputs": [],
   "source": []
  },
  {
   "cell_type": "code",
   "execution_count": null,
   "id": "552d38dc",
   "metadata": {},
   "outputs": [],
   "source": []
  }
 ],
 "metadata": {
  "kernelspec": {
   "display_name": "trip_venv",
   "language": "python",
   "name": "python3"
  },
  "language_info": {
   "codemirror_mode": {
    "name": "ipython",
    "version": 3
   },
   "file_extension": ".py",
   "mimetype": "text/x-python",
   "name": "python",
   "nbconvert_exporter": "python",
   "pygments_lexer": "ipython3",
   "version": "3.10.17"
  }
 },
 "nbformat": 4,
 "nbformat_minor": 5
}
